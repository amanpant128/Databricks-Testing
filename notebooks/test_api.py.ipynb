{
 "cells": [
  {
   "cell_type": "code",
   "execution_count": 0,
   "metadata": {
    "application/vnd.databricks.v1+cell": {
     "cellMetadata": {
      "byteLimit": 2048000,
      "rowLimit": 10000
     },
     "inputWidgets": {},
     "nuid": "7d40b986-e02c-4cb5-86c1-d4f4b2fa0c60",
     "showTitle": false,
     "tableResultSettingsMap": {},
     "title": ""
    }
   },
   "outputs": [],
   "source": [
    "# Databricks notebook source\n",
    "import json\n",
    "import requests\n",
    "from pyspark.sql import SparkSession"
   ]
  },
  {
   "cell_type": "code",
   "execution_count": 0,
   "metadata": {
    "application/vnd.databricks.v1+cell": {
     "cellMetadata": {},
     "inputWidgets": {},
     "nuid": "cb3d461b-ab8c-432e-bb9d-b567c555a758",
     "showTitle": false,
     "tableResultSettingsMap": {},
     "title": ""
    }
   },
   "outputs": [],
   "source": [
    "# Initialize Spark session\n",
    "spark = SparkSession.builder.appName(\"API to Table\").getOrCreate()\n",
    "\n",
    "# Use a simple, open API with basic JSON output\n",
    "url = \"https://jsonplaceholder.typicode.com/posts\"  # Fake placeholder API for testing\n",
    "\n",
    "try:\n",
    "    response = requests.get(url, timeout=10)\n",
    "    response.raise_for_status()\n",
    "    data = response.json()  # This is already a list of dicts\n",
    "    \n",
    "    # Create DataFrame directly from list of dicts\n",
    "    df = spark.createDataFrame(data)\n",
    "    # df.show(5, truncate=False)\n",
    "    df.display()\n",
    "    \n",
    "    # Save as a Delta table\n",
    "    df.write.format(\"delta\").mode(\"overwrite\").saveAsTable(\"placeholder_posts\")\n",
    "    print(\"Data saved to table 'placeholder_posts'\")\n",
    "except requests.exceptions.RequestException as e:\n",
    "    print(f\"Error fetching API data: {e}\")"
   ]
  }
 ],
 "metadata": {
  "application/vnd.databricks.v1+notebook": {
   "computePreferences": {
    "hardware": {
     "accelerator": null,
     "gpuPoolId": null,
     "memory": null
    }
   },
   "dashboards": [],
   "environmentMetadata": {
    "base_environment": "",
    "environment_version": "2"
   },
   "inputWidgetPreferences": null,
   "language": "python",
   "notebookMetadata": {
    "pythonIndentUnit": 4
   },
   "notebookName": "test_api.py",
   "widgets": {}
  },
  "language_info": {
   "name": "python"
  }
 },
 "nbformat": 4,
 "nbformat_minor": 0
}

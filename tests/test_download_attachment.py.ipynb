{
 "cells": [
  {
   "cell_type": "code",
   "execution_count": 0,
   "metadata": {
    "application/vnd.databricks.v1+cell": {
     "cellMetadata": {},
     "inputWidgets": {},
     "nuid": "6d304f7c-dc27-44bd-90fb-a84dc8355c3b",
     "showTitle": false,
     "tableResultSettingsMap": {},
     "title": ""
    }
   },
   "outputs": [],
   "source": [
    "import pytest\n",
    "from unittest.mock import patch, MagicMock\n",
    "\n",
    "# Example: Test load_pem_certificate\n",
    "def test_load_pem_certificate_exists(tmp_path):\n",
    "    pem_file = tmp_path / \"cert.pem\"\n",
    "    pem_file.write_text(\"dummy certificate\")\n",
    "    from your_module import load_pem_certificate\n",
    "    assert load_pem_certificate(str(pem_file)) == str(pem_file)\n",
    "\n",
    "def test_load_pem_certificate_not_exists():\n",
    "    from your_module import load_pem_certificate\n",
    "    with pytest.raises(RuntimeError):\n",
    "        load_pem_certificate(\"non_existent.pem\")\n",
    "\n",
    "# Example: Test extract_ticket_numbers_and_status\n",
    "def test_extract_ticket_numbers_and_status():\n",
    "    from your_module import extract_ticket_numbers_and_status\n",
    "    filtered_data = {\n",
    "        \"Issues\": [\n",
    "            {\n",
    "                \"Key\": \"JIRA-123\",\n",
    "                \"Id\": 1,\n",
    "                \"Values\": [\n",
    "                    {\"Key\": \"Fund\", \"Value\": \"Alpha\"},\n",
    "                    {\"Key\": \"Status\", \"Value\": \"Open\"},\n",
    "                    {\"Key\": \"Other\", \"Value\": \"Value\"}\n",
    "                ]\n",
    "            }\n",
    "        ]\n",
    "    }\n",
    "    result = extract_ticket_numbers_and_status(filtered_data)\n",
    "    assert result[0][\"Key\"] == \"JIRA-123\"\n",
    "    assert result[0][\"Fund\"] == \"Alpha\"\n",
    "    assert result[0][\"Status\"] == \"Open\"\n",
    "\n",
    "# Example: Test _get_access_token with mocked requests\n",
    "@patch(\"your_module.requests.post\")\n",
    "def test_get_access_token_success(mock_post):\n",
    "    from your_module import _get_access_token\n",
    "    mock_post.return_value.status_code = 200\n",
    "    mock_post.return_value.json.return_value = {\"access_token\": \"token123\"}\n",
    "    # You need to set token_url, headers, client_payload in your_module before calling\n",
    "    assert _get_access_token(\"dummy.pem\") == \"token123\""
   ]
  }
 ],
 "metadata": {
  "application/vnd.databricks.v1+notebook": {
   "computePreferences": null,
   "dashboards": [],
   "environmentMetadata": {
    "base_environment": "",
    "environment_version": "2"
   },
   "inputWidgetPreferences": null,
   "language": "python",
   "notebookMetadata": {
    "pythonIndentUnit": 4
   },
   "notebookName": "test_download_attachment.py",
   "widgets": {}
  },
  "language_info": {
   "name": "python"
  }
 },
 "nbformat": 4,
 "nbformat_minor": 0
}
